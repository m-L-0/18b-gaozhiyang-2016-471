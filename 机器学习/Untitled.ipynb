{
 "cells": [
  {
   "cell_type": "code",
   "execution_count": 2,
   "metadata": {},
   "outputs": [],
   "source": [
    "import matplotlib.pyplot as plt  \n",
    "import numpy as np\n",
    "from scipy.io import loadmat\n",
    "import spectral\n",
    "import scipy.io as io\n",
    "import pandas as pd"
   ]
  },
  {
   "cell_type": "code",
   "execution_count": 3,
   "metadata": {},
   "outputs": [],
   "source": [
    "data2 = loadmat('data2_train.mat')['data2_train']\n",
    "data3 = loadmat('data3_train.mat')['data3_train']\n",
    "data5 = loadmat('data5_train.mat')['data5_train']\n",
    "data6 = loadmat('data6_train.mat')['data6_train']\n",
    "data8 = loadmat('data8_train.mat')['data8_train']\n",
    "data10 = loadmat('data10_train.mat')['data10_train']\n",
    "data11 = loadmat('data11_train.mat')['data11_train']\n",
    "data12 = loadmat('data12_train.mat')['data12_train']\n",
    "data14 = loadmat('data14_train.mat')['data14_train']\n",
    "data_test_final = loadmat('data_test_final.mat')['data_test_final']\n",
    "y = [2, 3, 5, 6, 8, 10, 11, 12, 14]"
   ]
  },
  {
   "cell_type": "code",
   "execution_count": 4,
   "metadata": {},
   "outputs": [],
   "source": [
    "data = []\n",
    "data_y = []\n",
    "for i in range(data2.shape[0]):\n",
    "    data_y.append(2)\n",
    "for i in range(data3.shape[0]):\n",
    "    data_y.append(3)\n",
    "for i in range(data5.shape[0]):\n",
    "    data_y.append(5)\n",
    "for i in range(data6.shape[0]):\n",
    "    data_y.append(6)\n",
    "for i in range(data8.shape[0]):\n",
    "    data_y.append(8)\n",
    "for i in range(data10.shape[0]):\n",
    "    data_y.append(10)\n",
    "for i in range(data11.shape[0]):\n",
    "    data_y.append(11)\n",
    "for i in range(data12.shape[0]):\n",
    "    data_y.append(12)\n",
    "for i in range(data14.shape[0]):\n",
    "    data_y.append(14)\n",
    "data_y = np.array(data_y)\n",
    "for i in data2:\n",
    "    data.append(i)\n",
    "for i in data3:\n",
    "    data.append(i)\n",
    "for i in data5:\n",
    "    data.append(i)\n",
    "for i in data6:\n",
    "    data.append(i)\n",
    "for i in data8:\n",
    "    data.append(i)\n",
    "for i in data10:\n",
    "    data.append(i)\n",
    "for i in data11:\n",
    "    data.append(i)\n",
    "for i in data12:\n",
    "    data.append(i)\n",
    "for i in data14:\n",
    "    data.append(i)\n",
    "data = np.array(data)"
   ]
  },
  {
   "cell_type": "code",
   "execution_count": 45,
   "metadata": {},
   "outputs": [
    {
     "data": {
      "text/plain": [
       "SVC(C=1.0, cache_size=200, class_weight=None, coef0=0.0,\n",
       "  decision_function_shape='ovr', degree=3, gamma='auto', kernel='linear',\n",
       "  max_iter=-1, probability=False, random_state=None, shrinking=True,\n",
       "  tol=0.001, verbose=False)"
      ]
     },
     "execution_count": 45,
     "metadata": {},
     "output_type": "execute_result"
    }
   ],
   "source": [
    "#SVM\n",
    "from sklearn import svm\n",
    "svc = svm.SVC(kernel='linear')\n",
    "svc.fit(data, data_y)"
   ]
  },
  {
   "cell_type": "code",
   "execution_count": 48,
   "metadata": {},
   "outputs": [],
   "source": [
    "result = svc.predict(data_test_final)\n",
    "result = np.array(result)\n",
    "data = pd.DataFrame(result)\n",
    "data.to_csv('result.csv')"
   ]
  },
  {
   "cell_type": "code",
   "execution_count": 5,
   "metadata": {},
   "outputs": [],
   "source": [
    "#Scikitlearn神经网络\n",
    "from sklearn import neural_network\n",
    "mlp_cls = neural_network.MLPClassifier(\n",
    "    hidden_layer_sizes=[64, 128, 64], max_iter=5000)\n",
    "mlp_cls.fit(data, data_y)\n",
    "test_y = mlp_cls.predict(data_test_final)\n",
    "test_y = np.array(test_y)\n",
    "data = pd.DataFrame(test_y)\n",
    "data.to_csv('test_y.csv')"
   ]
  },
  {
   "cell_type": "code",
   "execution_count": null,
   "metadata": {},
   "outputs": [],
   "source": []
  }
 ],
 "metadata": {
  "kernelspec": {
   "display_name": "Python 3",
   "language": "python",
   "name": "python3"
  },
  "language_info": {
   "codemirror_mode": {
    "name": "ipython",
    "version": 3
   },
   "file_extension": ".py",
   "mimetype": "text/x-python",
   "name": "python",
   "nbconvert_exporter": "python",
   "pygments_lexer": "ipython3",
   "version": "3.6.4"
  }
 },
 "nbformat": 4,
 "nbformat_minor": 2
}
