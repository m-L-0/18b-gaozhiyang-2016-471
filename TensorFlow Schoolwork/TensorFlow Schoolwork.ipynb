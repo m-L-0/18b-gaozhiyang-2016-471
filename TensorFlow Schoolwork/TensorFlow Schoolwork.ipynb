{
 "cells": [
  {
   "cell_type": "code",
   "execution_count": 14,
   "metadata": {},
   "outputs": [],
   "source": [
    "import tensorflow as tf\n",
    "import numpy as np\n",
    "from sklearn import datasets\n",
    "from sklearn import model_selection\n",
    "tf.enable_eager_execution() #开启eager模式"
   ]
  },
  {
   "cell_type": "code",
   "execution_count": null,
   "metadata": {},
   "outputs": [],
   "source": [
    "'''\n",
    "高志阳-2016011471\n",
    "任务说明：\n",
    "将鸢尾花数据集安装8 : 2的比例划分成训练集与验证集（数据集部分可使用Dataset API，也可以不使用）。\n",
    "\n",
    "设计模型：\n",
    "使用TensorFlow设计K近邻模型（可不使用KD树优化算法）\n",
    "模型关键部分需添加注释\n",
    "\n",
    "训练模型：\n",
    "使用TensorFlow完成训练相关的代码\n",
    "训练关键部分需添加注释\n",
    "\n",
    "验证模型：\n",
    "使用验证集检测模型性能\n",
    "使用验证集调整超参数\n",
    "提交模型：\n",
    "\n",
    "可使用Eager模式设计模型\n",
    "'''"
   ]
  },
  {
   "cell_type": "code",
   "execution_count": 3,
   "metadata": {},
   "outputs": [],
   "source": [
    "#加载鸢尾花数据集\n",
    "iris = datasets.load_iris()\n",
    "#将数据集用留出法划分为两部分\n",
    "# 指定20%的数据集作为测试集，划分前打乱数据\n",
    "x_train, x_test, y_train, y_test = model_selection.train_test_split(\n",
    "    iris.data, iris.target, test_size=0.2, shuffle=True)"
   ]
  },
  {
   "cell_type": "code",
   "execution_count": 4,
   "metadata": {},
   "outputs": [],
   "source": [
    "#设计K近邻模型(TensorFlow)（K=5）\n",
    "#求两点之间距离(二三维)\n",
    "def x_y(x1, x2):\n",
    "    x_dis = tf.square(tf.subtract(x1[2], x2[2]))\n",
    "    y_dis = tf.square(tf.subtract(x1[3], x2[3]))\n",
    "    x_y_dis = tf.add(x_dis, y_dis)\n",
    "    dis = tf.sqrt(x_y_dis)\n",
    "    return dis\n",
    "\n",
    "def panduan_x0(x0_test, k):\n",
    "    distance = []  #保存距离\n",
    "    y_distance = []  #保存标签\n",
    "    \n",
    "    #先保存前k个点的距离\n",
    "    for q_i in tf.range(k):\n",
    "        dis = x_y(x0_test, x_train[q_i])\n",
    "        distance.append(dis)\n",
    "        y_distance.append(y_train[q_i])\n",
    "\n",
    "    #排序(小->大)\n",
    "    for ci in tf.range(k-1):\n",
    "        for cj in tf.range(k-1):\n",
    "            if tf.greater(distance[cj],distance[cj+1]):\n",
    "                temp = distance[cj]\n",
    "                distance[cj] = distance[cj+1]\n",
    "                distance[cj+1] = temp\n",
    "                y_temp = y_distance[cj]\n",
    "                y_distance[cj] = y_distance[cj+1]\n",
    "                y_distance[cj+1] = y_temp\n",
    "\n",
    "    #分别计算x0_test与每个数据之间的欧式距离\n",
    "    for i in tf.range(120-k):\n",
    "        dis = x_y(x0_test, x_train[i+k])\n",
    "        \n",
    "        #判断当前距离是不是最近的并保存在distance中\n",
    "        dis_i = 0\n",
    "        for ik in tf.range(k):\n",
    "            if tf.less(dis_i,k):\n",
    "                if tf.less(dis,distance[dis_i]):\n",
    "                    distance[dis_i] = dis\n",
    "                    y_distance[dis_i] = y_train[i+k]\n",
    "                    dis_i = k\n",
    "                else:\n",
    "                    dis_i = dis_i+1\n",
    "            \n",
    "        #判断当前所属类别\n",
    "        num_0 = tf.Variable(tf.constant(0))\n",
    "        num_1 = tf.Variable(tf.constant(0))\n",
    "        num_2 = tf.Variable(tf.constant(0))\n",
    "        for i in tf.range(k):\n",
    "            if y_distance[i]==0:\n",
    "                num_0 = num_0+1\n",
    "            elif y_distance[i]<2:\n",
    "                num_1 = num_1+1\n",
    "            else:\n",
    "                num_2 = num_2+1\n",
    "        y_true = tf.Variable(tf.constant(0))\n",
    "        if num_0>num_1:\n",
    "            if num_0>num_2:\n",
    "                y_true = 0\n",
    "            else:\n",
    "                y_true = 2\n",
    "        else:\n",
    "            if num_1>num_2:\n",
    "                y_true = 1\n",
    "            else:\n",
    "                y_true = 2\n",
    "    #返回所属的类别\n",
    "    return y_true"
   ]
  },
  {
   "cell_type": "code",
   "execution_count": 49,
   "metadata": {},
   "outputs": [],
   "source": [
    "#得到不同k对应的y_list\n",
    "def ru_y_list():\n",
    "    y_list = []\n",
    "    for k in tf.range(1, 10):\n",
    "        #调用算法测试x_test\n",
    "        y_linshi = []\n",
    "        for m in x_test:\n",
    "            y_linshi.append(panduan_x0(m, k))\n",
    "        y_list.append(y_linshi)\n",
    "    return y_list\n",
    "#得到最高的正确率对应的k\n",
    "def ru_ri(y_list):\n",
    "    #计算正确率\n",
    "    rn_list = []\n",
    "    r_k = 0\n",
    "    r_y = []\n",
    "    for n in tf.range(9):\n",
    "        r_n = 0\n",
    "        for m in tf.range(30):\n",
    "            if y_test[m] == y_list[n][m]:\n",
    "                r_n = r_n+1\n",
    "        rn_list.append(r_n)\n",
    "    for rn in tf.range(8):\n",
    "        if rn_list[rn] > rn_list[rn+1]:\n",
    "            r_k = rn\n",
    "            r_y = y_list[rn]\n",
    "    return r_k, r_y\n",
    "#计算正确率\n",
    "def zql(y):\n",
    "    num = 0\n",
    "    for z in tf.range(30):\n",
    "        if y[z] == y_test[z]:\n",
    "            num = num+1\n",
    "    return num/30"
   ]
  },
  {
   "cell_type": "code",
   "execution_count": 42,
   "metadata": {},
   "outputs": [],
   "source": [
    "y_list = ru_y_list()\n",
    "y_list = np.array(y_list)"
   ]
  },
  {
   "cell_type": "code",
   "execution_count": 53,
   "metadata": {},
   "outputs": [
    {
     "name": "stdout",
     "output_type": "stream",
     "text": [
      "tf.Tensor(1, shape=(), dtype=int32)\n",
      "[2 1 2 1 0 1 2 1 1 2 1 0 2 2 0 0 0 2 2 1 2 1 0 1 2 0 2 0 1 1]\n"
     ]
    }
   ],
   "source": [
    "r_k, y = ru_ri(y_list)\n",
    "print(r_k)\n",
    "print(r_y)"
   ]
  },
  {
   "cell_type": "code",
   "execution_count": 54,
   "metadata": {},
   "outputs": [],
   "source": [
    "rig = zql(y)"
   ]
  },
  {
   "cell_type": "code",
   "execution_count": 56,
   "metadata": {},
   "outputs": [
    {
     "name": "stdout",
     "output_type": "stream",
     "text": [
      "K的最优值为 tf.Tensor(1, shape=(), dtype=int32)\n",
      "k近邻算法得y_test为： [2 1 2 1 0 1 2 1 1 2 1 0 2 2 0 0 0 2 2 1 2 1 0 1 2 0 2 0 1 1]\n",
      "y_test为 [2 1 2 1 0 1 2 1 1 2 1 0 2 2 0 0 0 2 2 1 2 1 0 1 2 0 2 0 1 2]\n",
      "正确率为 0.9666666666666667\n"
     ]
    }
   ],
   "source": [
    "print('K的最优值为',r_k)\n",
    "print(\"k近邻算法得y_test为：\",y)\n",
    "print(\"y_test为\",y_test)\n",
    "print('正确率为',rig)"
   ]
  },
  {
   "cell_type": "code",
   "execution_count": null,
   "metadata": {},
   "outputs": [],
   "source": []
  }
 ],
 "metadata": {
  "kernelspec": {
   "display_name": "Python 3",
   "language": "python",
   "name": "python3"
  },
  "language_info": {
   "codemirror_mode": {
    "name": "ipython",
    "version": 3
   },
   "file_extension": ".py",
   "mimetype": "text/x-python",
   "name": "python",
   "nbconvert_exporter": "python",
   "pygments_lexer": "ipython3",
   "version": "3.6.4"
  }
 },
 "nbformat": 4,
 "nbformat_minor": 2
}
